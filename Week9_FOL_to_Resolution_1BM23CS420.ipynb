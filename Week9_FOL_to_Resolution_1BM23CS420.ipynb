{
  "nbformat": 4,
  "nbformat_minor": 0,
  "metadata": {
    "colab": {
      "provenance": [],
      "authorship_tag": "ABX9TyPdlZGCz0Y0Gz2g0PoEz3YO",
      "include_colab_link": true
    },
    "kernelspec": {
      "name": "python3",
      "display_name": "Python 3"
    },
    "language_info": {
      "name": "python"
    }
  },
  "cells": [
    {
      "cell_type": "markdown",
      "metadata": {
        "id": "view-in-github",
        "colab_type": "text"
      },
      "source": [
        "<a href=\"https://colab.research.google.com/github/PatilShreya22/AI/blob/main/Week9_FOL_to_Resolution_1BM23CS420.ipynb\" target=\"_parent\"><img src=\"https://colab.research.google.com/assets/colab-badge.svg\" alt=\"Open In Colab\"/></a>"
      ]
    },
    {
      "cell_type": "code",
      "execution_count": 7,
      "metadata": {
        "colab": {
          "base_uri": "https://localhost:8080/"
        },
        "id": "bYE-8SscgYGA",
        "outputId": "4c83aa02-4d06-4503-b0ea-2e3e5136c782"
      },
      "outputs": [
        {
          "output_type": "stream",
          "name": "stdout",
          "text": [
            "Derived Fact: Food(Peanuts)\n",
            "Derived Fact: Likes(John, Peanuts)\n",
            "Proven: Likes(John, Peanuts)\n"
          ]
        }
      ],
      "source": [
        "# Knowledge Base (KB)\n",
        "facts = {\n",
        "    \"Eats(Anil, Peanuts)\": True,\n",
        "    \"not Killed(Anil)\": True,\n",
        "    \"Food(Apple)\": True,\n",
        "    \"Food(Vegetables)\": True,\n",
        "}\n",
        "\n",
        "rules = [\n",
        "    # Rule: Food(X) :- Eats(Y, X) and not Killed(Y)\n",
        "    {\"conditions\": [\"Eats(Y, X)\", \"not Killed(Y)\"], \"conclusion\": \"Food(X)\"},\n",
        "    # Rule: Likes(John, X) :- Food(X)\n",
        "    {\"conditions\": [\"Food(X)\"], \"conclusion\": \"Likes(John, X)\"},\n",
        "]\n",
        "\n",
        "# Query\n",
        "query = \"Likes(John, Peanuts)\"\n",
        "\n",
        "# Helper function to substitute variables in a rule\n",
        "def substitute(rule_part, substitutions):\n",
        "    for var, value in substitutions.items():\n",
        "        rule_part = rule_part.replace(var, value)\n",
        "    return rule_part\n",
        "\n",
        "# Function to resolve the query\n",
        "def resolve_query(facts, rules, query):\n",
        "    working_facts = facts.copy()\n",
        "    while True:\n",
        "        new_facts_added = False\n",
        "        for rule in rules:\n",
        "            conditions = rule[\"conditions\"]\n",
        "            conclusion = rule[\"conclusion\"]\n",
        "\n",
        "            # Try all substitutions for variables (X, Y) in the rules\n",
        "            for entity in [\"Apple\", \"Vegetables\", \"Peanuts\", \"Anil\", \"John\"]:\n",
        "                substitutions = {\"X\": \"Peanuts\", \"Y\": \"Anil\"}  # Fixed for this problem\n",
        "                resolved_conditions = [substitute(cond, substitutions) for cond in conditions]\n",
        "                resolved_conclusion = substitute(conclusion, substitutions)\n",
        "\n",
        "                # Check if all conditions are true\n",
        "                if all(working_facts.get(cond, False) for cond in resolved_conditions):\n",
        "                    if resolved_conclusion not in working_facts:\n",
        "                        working_facts[resolved_conclusion] = True\n",
        "                        new_facts_added = True\n",
        "                        print(f\"Derived Fact: {resolved_conclusion}\")\n",
        "\n",
        "        if not new_facts_added:\n",
        "            break\n",
        "\n",
        "    # Check if the query is resolved\n",
        "    return working_facts.get(query, False)\n",
        "\n",
        "# Run the resolution process\n",
        "if resolve_query(facts, rules, query):\n",
        "    print(f\"Proven: {query}\")\n",
        "else:\n",
        "    print(f\"Not Proven: {query}\")\n"
      ]
    }
  ]
}