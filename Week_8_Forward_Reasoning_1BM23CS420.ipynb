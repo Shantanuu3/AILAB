{
  "nbformat": 4,
  "nbformat_minor": 0,
  "metadata": {
    "colab": {
      "provenance": [],
      "authorship_tag": "ABX9TyPRb2ckKyOVy3wKNOhWYS8+",
      "include_colab_link": true
    },
    "kernelspec": {
      "name": "python3",
      "display_name": "Python 3"
    },
    "language_info": {
      "name": "python"
    }
  },
  "cells": [
    {
      "cell_type": "markdown",
      "metadata": {
        "id": "view-in-github",
        "colab_type": "text"
      },
      "source": [
        "<a href=\"https://colab.research.google.com/github/PatilShreya22/AI/blob/main/Week_8_Forward_Reasoning_1BM23CS420.ipynb\" target=\"_parent\"><img src=\"https://colab.research.google.com/assets/colab-badge.svg\" alt=\"Open In Colab\"/></a>"
      ]
    },
    {
      "cell_type": "code",
      "execution_count": 8,
      "metadata": {
        "colab": {
          "base_uri": "https://localhost:8080/"
        },
        "id": "fdU2M4_-QbSQ",
        "outputId": "63b1f6e1-2610-46fb-b32a-c867f77ce9f3"
      },
      "outputs": [
        {
          "output_type": "stream",
          "name": "stdout",
          "text": [
            "Applied rule: {'Missile(m1)', 'American(Robert)', 'Owns(CountryA, m1)'} -> Sells(Robert, m1, CountryA)\n",
            "Applied rule: {'American(Robert)', 'Sells(Robert, m1, CountryA)', 'Hostile(CountryA)'} -> Criminal(Robert)\n",
            "\n",
            "Final facts:\n",
            "{'Criminal(Robert)', 'Missile(m1)', 'Owns(CountryA, m1)', 'Sells(Robert, m1, CountryA)', 'Hostile(CountryA)', 'American(Robert)'}\n",
            "\n",
            "Query 'Criminal(Robert)' inferred: True\n"
          ]
        }
      ],
      "source": [
        "class ForwardReasoning:\n",
        "    def __init__(self, rules, facts):\n",
        "        \"\"\"\n",
        "        Initializes the ForwardReasoning system.\n",
        "\n",
        "        Parameters:\n",
        "            rules (list): List of rules as tuples (condition, result),\n",
        "                          where 'condition' is a set of facts.\n",
        "            facts (set): Set of initial known facts.\n",
        "        \"\"\"\n",
        "        self.rules = rules  # List of rules (condition -> result)\n",
        "        self.facts = set(facts)  # Known facts\n",
        "\n",
        "    def infer(self, query):\n",
        "        \"\"\"\n",
        "        Applies forward reasoning to infer new facts based on rules and initial facts.\n",
        "\n",
        "        Parameters:\n",
        "            query (str): The fact to verify if it can be inferred.\n",
        "\n",
        "        Returns:\n",
        "            bool: True if the query can be inferred, False otherwise.\n",
        "        \"\"\"\n",
        "        applied_rules = True\n",
        "\n",
        "        while applied_rules:\n",
        "            applied_rules = False\n",
        "            for condition, result in self.rules:\n",
        "                # Check if all conditions are met in the current facts\n",
        "                if condition.issubset(self.facts) and result not in self.facts:\n",
        "                    self.facts.add(result)  # Add the inferred result\n",
        "                    applied_rules = True\n",
        "                    print(f\"Applied rule: {condition} -> {result}\")\n",
        "                    # If the query is inferred, return True immediately\n",
        "                    if query in self.facts:\n",
        "                        return True\n",
        "\n",
        "        # Return whether the query can be inferred from the facts\n",
        "        return query in self.facts\n",
        "\n",
        "\n",
        "# Define the Knowledge Base (KB) with rules as (condition, result)\n",
        "rules = [\n",
        "    ({\"American(Robert)\", \"Missile(m1)\", \"Owns(CountryA, m1)\"}, \"Sells(Robert, m1, CountryA)\"),  # Sells(Robert, m1, CountryA) based on facts\n",
        "    ({\"Sells(Robert, m1, CountryA)\", \"American(Robert)\", \"Hostile(CountryA)\"}, \"Criminal(Robert)\"),  # Criminal inference\n",
        "]\n",
        "\n",
        "# Define initial facts\n",
        "facts = {\n",
        "    \"American(Robert)\",\n",
        "    \"Hostile(CountryA)\",\n",
        "    \"Missile(m1)\",\n",
        "    \"Owns(CountryA, m1)\",\n",
        "}\n",
        "\n",
        "# Query\n",
        "query = \"Criminal(Robert)\"\n",
        "\n",
        "# Initialize and run forward reasoning\n",
        "reasoner = ForwardReasoning(rules, facts)\n",
        "result = reasoner.infer(query)\n",
        "\n",
        "# Final output\n",
        "print(\"\\nFinal facts:\")\n",
        "print(reasoner.facts)\n",
        "print(f\"\\nQuery '{query}' inferred: {result}\")\n"
      ]
    }
  ]
}